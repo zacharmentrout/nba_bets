{
 "cells": [
  {
   "cell_type": "code",
   "execution_count": 5,
   "metadata": {},
   "outputs": [],
   "source": [
    "import os\n",
    "import re\n",
    "\n",
    "os.chdir('/Users/zach/Documents/git/nba_bets/src/models/')\n",
    "\n",
    "#import importlib.util\n",
    "from train_model_functions import *\n"
   ]
  },
  {
   "cell_type": "code",
   "execution_count": 6,
   "metadata": {},
   "outputs": [],
   "source": [
    "data_location = '/Users/zach/Documents/git/nba_bets/data/'\n",
    "in_delim = '|'\n",
    "\n",
    "target = 'WIN_HOME'"
   ]
  },
  {
   "cell_type": "code",
   "execution_count": 7,
   "metadata": {},
   "outputs": [],
   "source": [
    "# specify predictors\n",
    "predictors = [\n",
    "'TEAM_FEATURE_cumulative_pt_pct_COURT_HOME_AWAY_diff',\n",
    "'TEAM_FEATURE_cumulative_win_pct_COURT_HOME_AWAY_diff',\n",
    " 'TEAM_FEATURE_cumulative_count_GAME_NUMBER_HOME',\n",
    "'TEAM_FEATURE_pct_pct_prev_COURT_HOME_AWAY_diff',\n",
    "'TEAM_FEATURE_cumulative_pt_pct_COURT_HOME'\n",
    "]"
   ]
  },
  {
   "cell_type": "code",
   "execution_count": 4,
   "metadata": {},
   "outputs": [
    {
     "data": {
      "text/plain": [
       "['TEAM_FEATURE_cumulative_pt_pct_COURT_HOME_AWAY_diff',\n",
       " 'TEAM_FEATURE_cumulative_win_pct_COURT_HOME_AWAY_diff',\n",
       " 'TEAM_FEATURE_cumulative_count_GAME_NUMBER_HOME',\n",
       " 'TEAM_FEATURE_pct_pct_prev_COURT_HOME_AWAY_diff',\n",
       " 'TEAM_FEATURE_cumulative_pt_pct_COURT_HOME']"
      ]
     },
     "execution_count": 4,
     "metadata": {},
     "output_type": "execute_result"
    }
   ],
   "source": [
    "# parameter dict -- defines grid of parameter c to test\n",
    "model_param_dict = {\n",
    "    'learning_rate':[0.001],\n",
    "    'n_estimators':[750],\n",
    "    #'max_depth':[3,5,10],\n",
    "    'min_samples_leaf':[1],\n",
    "    'min_child_weight':[1],\n",
    "    'gamma':[0.5],\n",
    "    'subsample':[1],\n",
    "    'colsample_bytree':[1.0],\n",
    "    'objective':['binary:logistic'],\n",
    "    'nthread':[1],\n",
    "    'scale_pos_weight':[1],\n",
    "    'seed':[223],\n",
    "    'train_frac':[0.5],\n",
    "    'bet_dist_type':['max-ep', 'opt'],\n",
    "    'bet_budget':[100],\n",
    "    'min_exp_roi':[0.1],\n",
    "    #'conf_threshold':[0.2],\n",
    "\n",
    "    # functions\n",
    "     'training_prediction_functions':[(train_rf_classifier, predict_with_rf_classifier)],\n",
    "    #'training_prediction_functions':[(train_logistic_cv_classifier, predict_with_logistic_classifier)],\n",
    "    'model_performance_function':[calc_model_performance],\n",
    "    'bet_recommendation_function':[calc_bet_distribution],\n",
    "    'bet_performance_function':[calc_total_profit],\n",
    "    'modeling_round_var':[['SEASON_NUMBER']],\n",
    "    #'modeling_round_var':[['GAME_DATE_year','GAME_DATE_week_number']],\n",
    "    'betting_round_params':[(['GAME_DATE_year','GAME_DATE_week_number'], [2015, 46], [2017, 15])]\n",
    "    ,'penalty':['elasticnet']\n",
    "    ,'max_iter':[10000]\n",
    "}\n",
    "\n",
    "\n",
    "\n",
    "##################\n",
    "# get model parameters\n",
    "##################\n",
    "\n",
    "model_params = make_parameter_dict_list(model_param_dict)"
   ]
  },
  {
   "cell_type": "code",
   "execution_count": null,
   "metadata": {},
   "outputs": [],
   "source": []
  }
 ],
 "metadata": {
  "kernelspec": {
   "display_name": "Python 3",
   "language": "python",
   "name": "python3"
  },
  "language_info": {
   "codemirror_mode": {
    "name": "ipython",
    "version": 3
   },
   "file_extension": ".py",
   "mimetype": "text/x-python",
   "name": "python",
   "nbconvert_exporter": "python",
   "pygments_lexer": "ipython3",
   "version": "3.7.0"
  }
 },
 "nbformat": 4,
 "nbformat_minor": 2
}
